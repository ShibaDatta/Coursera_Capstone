{
 "cells": [
  {
   "cell_type": "markdown",
   "metadata": {},
   "source": [
    "#### Neighborhoods in Toronto"
   ]
  },
  {
   "cell_type": "markdown",
   "metadata": {},
   "source": [
    "Scrape the Wikipedia page"
   ]
  },
  {
   "cell_type": "code",
   "execution_count": 1,
   "metadata": {},
   "outputs": [],
   "source": [
    "import requests\n",
    "from bs4 import BeautifulSoup\n",
    "import pandas as pd"
   ]
  },
  {
   "cell_type": "code",
   "execution_count": 2,
   "metadata": {},
   "outputs": [],
   "source": [
    "page = requests.get(\"https://en.wikipedia.org/wiki/List_of_postal_codes_of_Canada:_M\")\n",
    "soup = BeautifulSoup(page.content, 'html.parser')"
   ]
  },
  {
   "cell_type": "code",
   "execution_count": 3,
   "metadata": {},
   "outputs": [],
   "source": [
    "table = soup.find('tbody')\n",
    "rows = table.select('tr')\n",
    "row = [r.get_text() for r in rows]"
   ]
  },
  {
   "cell_type": "code",
   "execution_count": 4,
   "metadata": {},
   "outputs": [
    {
     "name": "stdout",
     "output_type": "stream",
     "text": [
      "['\\nPostcode\\nBorough\\nNeighbourhood\\n', '\\nM1A\\nNot assigned\\nNot assigned\\n', '\\nM2A\\nNot assigned\\nNot assigned\\n', '\\nM3A\\nNorth York\\nParkwoods\\n', '\\nM4A\\nNorth York\\nVictoria Village\\n', '\\nM5A\\nDowntown Toronto\\nHarbourfront\\n', '\\nM5A\\nDowntown Toronto\\nRegent Park\\n', '\\nM6A\\nNorth York\\nLawrence Heights\\n', '\\nM6A\\nNorth York\\nLawrence Manor\\n', \"\\nM7A\\nQueen's Park\\nNot assigned\\n\", '\\nM8A\\nNot assigned\\nNot assigned\\n', '\\nM9A\\nEtobicoke\\nIslington Avenue\\n', '\\nM1B\\nScarborough\\nRouge\\n', '\\nM1B\\nScarborough\\nMalvern\\n', '\\nM2B\\nNot assigned\\nNot assigned\\n', '\\nM3B\\nNorth York\\nDon Mills North\\n', '\\nM4B\\nEast York\\nWoodbine Gardens\\n', '\\nM4B\\nEast York\\nParkview Hill\\n', '\\nM5B\\nDowntown Toronto\\nRyerson\\n', '\\nM5B\\nDowntown Toronto\\nGarden District\\n', '\\nM6B\\nNorth York\\nGlencairn\\n', '\\nM7B\\nNot assigned\\nNot assigned\\n', '\\nM8B\\nNot assigned\\nNot assigned\\n', '\\nM9B\\nEtobicoke\\nCloverdale\\n', '\\nM9B\\nEtobicoke\\nIslington\\n', '\\nM9B\\nEtobicoke\\nMartin Grove\\n', '\\nM9B\\nEtobicoke\\nPrincess Gardens\\n', '\\nM9B\\nEtobicoke\\nWest Deane Park\\n', '\\nM1C\\nScarborough\\nHighland Creek\\n', '\\nM1C\\nScarborough\\nRouge Hill\\n', '\\nM1C\\nScarborough\\nPort Union\\n', '\\nM2C\\nNot assigned\\nNot assigned\\n', '\\nM3C\\nNorth York\\nFlemingdon Park\\n', '\\nM3C\\nNorth York\\nDon Mills South\\n', '\\nM4C\\nEast York\\nWoodbine Heights\\n', '\\nM5C\\nDowntown Toronto\\nSt. James Town\\n', '\\nM6C\\nYork\\nHumewood-Cedarvale\\n', '\\nM7C\\nNot assigned\\nNot assigned\\n', '\\nM8C\\nNot assigned\\nNot assigned\\n', '\\nM9C\\nEtobicoke\\nBloordale Gardens\\n', '\\nM9C\\nEtobicoke\\nEringate\\n', '\\nM9C\\nEtobicoke\\nMarkland Wood\\n', '\\nM9C\\nEtobicoke\\nOld Burnhamthorpe\\n', '\\nM1E\\nScarborough\\nGuildwood\\n', '\\nM1E\\nScarborough\\nMorningside\\n', '\\nM1E\\nScarborough\\nWest Hill\\n', '\\nM2E\\nNot assigned\\nNot assigned\\n', '\\nM3E\\nNot assigned\\nNot assigned\\n', '\\nM4E\\nEast Toronto\\nThe Beaches\\n', '\\nM5E\\nDowntown Toronto\\nBerczy Park\\n', '\\nM6E\\nYork\\nCaledonia-Fairbanks\\n', '\\nM7E\\nNot assigned\\nNot assigned\\n', '\\nM8E\\nNot assigned\\nNot assigned\\n', '\\nM9E\\nNot assigned\\nNot assigned\\n', '\\nM1G\\nScarborough\\nWoburn\\n', '\\nM2G\\nNot assigned\\nNot assigned\\n', '\\nM3G\\nNot assigned\\nNot assigned\\n', '\\nM4G\\nEast York\\nLeaside\\n', '\\nM5G\\nDowntown Toronto\\nCentral Bay Street\\n', '\\nM6G\\nDowntown Toronto\\nChristie\\n', '\\nM7G\\nNot assigned\\nNot assigned\\n', '\\nM8G\\nNot assigned\\nNot assigned\\n', '\\nM9G\\nNot assigned\\nNot assigned\\n', '\\nM1H\\nScarborough\\nCedarbrae\\n', '\\nM2H\\nNorth York\\nHillcrest Village\\n', '\\nM3H\\nNorth York\\nBathurst Manor\\n', '\\nM3H\\nNorth York\\nDownsview North\\n', '\\nM3H\\nNorth York\\nWilson Heights\\n', '\\nM4H\\nEast York\\nThorncliffe Park\\n', '\\nM5H\\nDowntown Toronto\\nAdelaide\\n', '\\nM5H\\nDowntown Toronto\\nKing\\n', '\\nM5H\\nDowntown Toronto\\nRichmond\\n', '\\nM6H\\nWest Toronto\\nDovercourt Village\\n', '\\nM6H\\nWest Toronto\\nDufferin\\n', '\\nM7H\\nNot assigned\\nNot assigned\\n', '\\nM8H\\nNot assigned\\nNot assigned\\n', '\\nM9H\\nNot assigned\\nNot assigned\\n', '\\nM1J\\nScarborough\\nScarborough Village\\n', '\\nM2J\\nNorth York\\nFairview\\n', '\\nM2J\\nNorth York\\nHenry Farm\\n', '\\nM2J\\nNorth York\\nOriole\\n', '\\nM3J\\nNorth York\\nNorthwood Park\\n', '\\nM3J\\nNorth York\\nYork University\\n', '\\nM4J\\nEast York\\nEast Toronto\\n', '\\nM5J\\nDowntown Toronto\\nHarbourfront East\\n', '\\nM5J\\nDowntown Toronto\\nToronto Islands\\n', '\\nM5J\\nDowntown Toronto\\nUnion Station\\n', '\\nM6J\\nWest Toronto\\nLittle Portugal\\n', '\\nM6J\\nWest Toronto\\nTrinity\\n', '\\nM7J\\nNot assigned\\nNot assigned\\n', '\\nM8J\\nNot assigned\\nNot assigned\\n', '\\nM9J\\nNot assigned\\nNot assigned\\n', '\\nM1K\\nScarborough\\nEast Birchmount Park\\n', '\\nM1K\\nScarborough\\nIonview\\n', '\\nM1K\\nScarborough\\nKennedy Park\\n', '\\nM2K\\nNorth York\\nBayview Village\\n', '\\nM3K\\nNorth York\\nCFB Toronto\\n', '\\nM3K\\nNorth York\\nDownsview East\\n', '\\nM4K\\nEast Toronto\\nThe Danforth West\\n', '\\nM4K\\nEast Toronto\\nRiverdale\\n', '\\nM5K\\nDowntown Toronto\\nDesign Exchange\\n', '\\nM5K\\nDowntown Toronto\\nToronto Dominion Centre\\n', '\\nM6K\\nWest Toronto\\nBrockton\\n', '\\nM6K\\nWest Toronto\\nExhibition Place\\n', '\\nM6K\\nWest Toronto\\nParkdale Village\\n', '\\nM7K\\nNot assigned\\nNot assigned\\n', '\\nM8K\\nNot assigned\\nNot assigned\\n', '\\nM9K\\nNot assigned\\nNot assigned\\n', '\\nM1L\\nScarborough\\nClairlea\\n', '\\nM1L\\nScarborough\\nGolden Mile\\n', '\\nM1L\\nScarborough\\nOakridge\\n', '\\nM2L\\nNorth York\\nSilver Hills\\n', '\\nM2L\\nNorth York\\nYork Mills\\n', '\\nM3L\\nNorth York\\nDownsview West\\n', '\\nM4L\\nEast Toronto\\nThe Beaches West\\n', '\\nM4L\\nEast Toronto\\nIndia Bazaar\\n', '\\nM5L\\nDowntown Toronto\\nCommerce Court\\n', '\\nM5L\\nDowntown Toronto\\nVictoria Hotel\\n', '\\nM6L\\nNorth York\\nDownsview\\n', '\\nM6L\\nNorth York\\nNorth Park\\n', '\\nM6L\\nNorth York\\nUpwood Park\\n', '\\nM7L\\nNot assigned\\nNot assigned\\n', '\\nM8L\\nNot assigned\\nNot assigned\\n', '\\nM9L\\nNorth York\\nHumber Summit\\n', '\\nM1M\\nScarborough\\nCliffcrest\\n', '\\nM1M\\nScarborough\\nCliffside\\n', '\\nM1M\\nScarborough\\nScarborough Village West\\n', '\\nM2M\\nNorth York\\nNewtonbrook\\n', '\\nM2M\\nNorth York\\nWillowdale\\n', '\\nM3M\\nNorth York\\nDownsview Central\\n', '\\nM4M\\nEast Toronto\\nStudio District\\n', '\\nM5M\\nNorth York\\nBedford Park\\n', '\\nM5M\\nNorth York\\nLawrence Manor East\\n', '\\nM6M\\nYork\\nDel Ray\\n', '\\nM6M\\nYork\\nKeelesdale\\n', '\\nM6M\\nYork\\nMount Dennis\\n', '\\nM6M\\nYork\\nSilverthorn\\n', '\\nM7M\\nNot assigned\\nNot assigned\\n', '\\nM8M\\nNot assigned\\nNot assigned\\n', '\\nM9M\\nNorth York\\nEmery\\n', '\\nM9M\\nNorth York\\nHumberlea\\n', '\\nM1N\\nScarborough\\nBirch Cliff\\n', '\\nM1N\\nScarborough\\nCliffside West\\n', '\\nM2N\\nNorth York\\nWillowdale South\\n', '\\nM3N\\nNorth York\\nDownsview Northwest\\n', '\\nM4N\\nCentral Toronto\\nLawrence Park\\n', '\\nM5N\\nCentral Toronto\\nRoselawn\\n', '\\nM6N\\nYork\\nThe Junction North\\n', '\\nM6N\\nYork\\nRunnymede\\n', '\\nM7N\\nNot assigned\\nNot assigned\\n', '\\nM8N\\nNot assigned\\nNot assigned\\n', '\\nM9N\\nYork\\nWeston\\n', '\\nM1P\\nScarborough\\nDorset Park\\n', '\\nM1P\\nScarborough\\nScarborough Town Centre\\n', '\\nM1P\\nScarborough\\nWexford Heights\\n', '\\nM2P\\nNorth York\\nYork Mills West\\n', '\\nM3P\\nNot assigned\\nNot assigned\\n', '\\nM4P\\nCentral Toronto\\nDavisville North\\n', '\\nM5P\\nCentral Toronto\\nForest Hill North\\n', '\\nM5P\\nCentral Toronto\\nForest Hill West\\n', '\\nM6P\\nWest Toronto\\nHigh Park\\n', '\\nM6P\\nWest Toronto\\nThe Junction South\\n', '\\nM7P\\nNot assigned\\nNot assigned\\n', '\\nM8P\\nNot assigned\\nNot assigned\\n', '\\nM9P\\nEtobicoke\\nWestmount\\n', '\\nM1R\\nScarborough\\nMaryvale\\n', '\\nM1R\\nScarborough\\nWexford\\n', '\\nM2R\\nNorth York\\nWillowdale West\\n', '\\nM3R\\nNot assigned\\nNot assigned\\n', '\\nM4R\\nCentral Toronto\\nNorth Toronto West\\n', '\\nM5R\\nCentral Toronto\\nThe Annex\\n', '\\nM5R\\nCentral Toronto\\nNorth Midtown\\n', '\\nM5R\\nCentral Toronto\\nYorkville\\n', '\\nM6R\\nWest Toronto\\nParkdale\\n', '\\nM6R\\nWest Toronto\\nRoncesvalles\\n', '\\nM7R\\nMississauga\\nCanada Post Gateway Processing Centre\\n', '\\nM8R\\nNot assigned\\nNot assigned\\n', '\\nM9R\\nEtobicoke\\nKingsview Village\\n', '\\nM9R\\nEtobicoke\\nMartin Grove Gardens\\n', '\\nM9R\\nEtobicoke\\nRichview Gardens\\n', '\\nM9R\\nEtobicoke\\nSt. Phillips\\n', '\\nM1S\\nScarborough\\nAgincourt\\n', '\\nM2S\\nNot assigned\\nNot assigned\\n', '\\nM3S\\nNot assigned\\nNot assigned\\n', '\\nM4S\\nCentral Toronto\\nDavisville\\n', '\\nM5S\\nDowntown Toronto\\nHarbord\\n', '\\nM5S\\nDowntown Toronto\\nUniversity of Toronto\\n', '\\nM6S\\nWest Toronto\\nRunnymede\\n', '\\nM6S\\nWest Toronto\\nSwansea\\n', '\\nM7S\\nNot assigned\\nNot assigned\\n', '\\nM8S\\nNot assigned\\nNot assigned\\n', '\\nM9S\\nNot assigned\\nNot assigned\\n', '\\nM1T\\nScarborough\\nClarks Corners\\n', '\\nM1T\\nScarborough\\nSullivan\\n', \"\\nM1T\\nScarborough\\nTam O'Shanter\\n\", '\\nM2T\\nNot assigned\\nNot assigned\\n', '\\nM3T\\nNot assigned\\nNot assigned\\n', '\\nM4T\\nCentral Toronto\\nMoore Park\\n', '\\nM4T\\nCentral Toronto\\nSummerhill East\\n', '\\nM5T\\nDowntown Toronto\\nChinatown\\n', '\\nM5T\\nDowntown Toronto\\nGrange Park\\n', '\\nM5T\\nDowntown Toronto\\nKensington Market\\n', '\\nM6T\\nNot assigned\\nNot assigned\\n', '\\nM7T\\nNot assigned\\nNot assigned\\n', '\\nM8T\\nNot assigned\\nNot assigned\\n', '\\nM9T\\nNot assigned\\nNot assigned\\n', '\\nM1V\\nScarborough\\nAgincourt North\\n', \"\\nM1V\\nScarborough\\nL'Amoreaux East\\n\", '\\nM1V\\nScarborough\\nMilliken\\n', '\\nM1V\\nScarborough\\nSteeles East\\n', '\\nM2V\\nNot assigned\\nNot assigned\\n', '\\nM3V\\nNot assigned\\nNot assigned\\n', '\\nM4V\\nCentral Toronto\\nDeer Park\\n', '\\nM4V\\nCentral Toronto\\nForest Hill SE\\n', '\\nM4V\\nCentral Toronto\\nRathnelly\\n', '\\nM4V\\nCentral Toronto\\nSouth Hill\\n', '\\nM4V\\nCentral Toronto\\nSummerhill West\\n', '\\nM5V\\nDowntown Toronto\\nCN Tower\\n', '\\nM5V\\nDowntown Toronto\\nBathurst Quay\\n', '\\nM5V\\nDowntown Toronto\\nIsland airport\\n', '\\nM5V\\nDowntown Toronto\\nHarbourfront West\\n', '\\nM5V\\nDowntown Toronto\\nKing and Spadina\\n', '\\nM5V\\nDowntown Toronto\\nRailway Lands\\n', '\\nM5V\\nDowntown Toronto\\nSouth Niagara\\n', '\\nM6V\\nNot assigned\\nNot assigned\\n', '\\nM7V\\nNot assigned\\nNot assigned\\n', '\\nM8V\\nEtobicoke\\nHumber Bay Shores\\n', '\\nM8V\\nEtobicoke\\nMimico South\\n', '\\nM8V\\nEtobicoke\\nNew Toronto\\n', '\\nM9V\\nEtobicoke\\nAlbion Gardens\\n', '\\nM9V\\nEtobicoke\\nBeaumond Heights\\n', '\\nM9V\\nEtobicoke\\nHumbergate\\n', '\\nM9V\\nEtobicoke\\nJamestown\\n', '\\nM9V\\nEtobicoke\\nMount Olive\\n', '\\nM9V\\nEtobicoke\\nSilverstone\\n', '\\nM9V\\nEtobicoke\\nSouth Steeles\\n', '\\nM9V\\nEtobicoke\\nThistletown\\n', \"\\nM1W\\nScarborough\\nL'Amoreaux West\\n\", '\\nM2W\\nNot assigned\\nNot assigned\\n', '\\nM3W\\nNot assigned\\nNot assigned\\n', '\\nM4W\\nDowntown Toronto\\nRosedale\\n', '\\nM5W\\nDowntown Toronto\\nStn A PO Boxes 25 The Esplanade\\n', '\\nM6W\\nNot assigned\\nNot assigned\\n', '\\nM7W\\nNot assigned\\nNot assigned\\n', '\\nM8W\\nEtobicoke\\nAlderwood\\n', '\\nM8W\\nEtobicoke\\nLong Branch\\n', '\\nM9W\\nEtobicoke\\nNorthwest\\n', '\\nM1X\\nScarborough\\nUpper Rouge\\n', '\\nM2X\\nNot assigned\\nNot assigned\\n', '\\nM3X\\nNot assigned\\nNot assigned\\n', '\\nM4X\\nDowntown Toronto\\nCabbagetown\\n', '\\nM4X\\nDowntown Toronto\\nSt. James Town\\n', '\\nM5X\\nDowntown Toronto\\nFirst Canadian Place\\n', '\\nM5X\\nDowntown Toronto\\nUnderground city\\n', '\\nM6X\\nNot assigned\\nNot assigned\\n', '\\nM7X\\nNot assigned\\nNot assigned\\n', '\\nM8X\\nEtobicoke\\nThe Kingsway\\n', '\\nM8X\\nEtobicoke\\nMontgomery Road\\n', '\\nM8X\\nEtobicoke\\nOld Mill North\\n', '\\nM9X\\nNot assigned\\nNot assigned\\n', '\\nM1Y\\nNot assigned\\nNot assigned\\n', '\\nM2Y\\nNot assigned\\nNot assigned\\n', '\\nM3Y\\nNot assigned\\nNot assigned\\n', '\\nM4Y\\nDowntown Toronto\\nChurch and Wellesley\\n', '\\nM5Y\\nNot assigned\\nNot assigned\\n', '\\nM6Y\\nNot assigned\\nNot assigned\\n', '\\nM7Y\\nEast Toronto\\nBusiness Reply Mail Processing Centre 969 Eastern\\n', '\\nM8Y\\nEtobicoke\\nHumber Bay\\n', \"\\nM8Y\\nEtobicoke\\nKing's Mill Park\\n\", '\\nM8Y\\nEtobicoke\\nKingsway Park South East\\n', '\\nM8Y\\nEtobicoke\\nMimico NE\\n', '\\nM8Y\\nEtobicoke\\nOld Mill South\\n', '\\nM8Y\\nEtobicoke\\nThe Queensway East\\n', '\\nM8Y\\nEtobicoke\\nRoyal York South East\\n', '\\nM8Y\\nEtobicoke\\nSunnylea\\n', '\\nM9Y\\nNot assigned\\nNot assigned\\n', '\\nM1Z\\nNot assigned\\nNot assigned\\n', '\\nM2Z\\nNot assigned\\nNot assigned\\n', '\\nM3Z\\nNot assigned\\nNot assigned\\n', '\\nM4Z\\nNot assigned\\nNot assigned\\n', '\\nM5Z\\nNot assigned\\nNot assigned\\n', '\\nM6Z\\nNot assigned\\nNot assigned\\n', '\\nM7Z\\nNot assigned\\nNot assigned\\n', '\\nM8Z\\nEtobicoke\\nKingsway Park South West\\n', '\\nM8Z\\nEtobicoke\\nMimico NW\\n', '\\nM8Z\\nEtobicoke\\nThe Queensway West\\n', '\\nM8Z\\nEtobicoke\\nRoyal York South West\\n', '\\nM8Z\\nEtobicoke\\nSouth of Bloor\\n', '\\nM9Z\\nNot assigned\\nNot assigned\\n']\n"
     ]
    }
   ],
   "source": [
    "print(row)"
   ]
  },
  {
   "cell_type": "markdown",
   "metadata": {},
   "source": [
    "Clean the Data"
   ]
  },
  {
   "cell_type": "code",
   "execution_count": 5,
   "metadata": {},
   "outputs": [
    {
     "data": {
      "text/html": [
       "<div>\n",
       "<style scoped>\n",
       "    .dataframe tbody tr th:only-of-type {\n",
       "        vertical-align: middle;\n",
       "    }\n",
       "\n",
       "    .dataframe tbody tr th {\n",
       "        vertical-align: top;\n",
       "    }\n",
       "\n",
       "    .dataframe thead th {\n",
       "        text-align: right;\n",
       "    }\n",
       "</style>\n",
       "<table border=\"1\" class=\"dataframe\">\n",
       "  <thead>\n",
       "    <tr style=\"text-align: right;\">\n",
       "      <th></th>\n",
       "      <th></th>\n",
       "      <th>Postcode</th>\n",
       "      <th>Borough</th>\n",
       "      <th>Neighbourhood</th>\n",
       "      <th></th>\n",
       "    </tr>\n",
       "  </thead>\n",
       "  <tbody>\n",
       "    <tr>\n",
       "      <th>1</th>\n",
       "      <td></td>\n",
       "      <td>M1A</td>\n",
       "      <td>Not assigned</td>\n",
       "      <td>Not assigned</td>\n",
       "      <td></td>\n",
       "    </tr>\n",
       "    <tr>\n",
       "      <th>2</th>\n",
       "      <td></td>\n",
       "      <td>M2A</td>\n",
       "      <td>Not assigned</td>\n",
       "      <td>Not assigned</td>\n",
       "      <td></td>\n",
       "    </tr>\n",
       "    <tr>\n",
       "      <th>3</th>\n",
       "      <td></td>\n",
       "      <td>M3A</td>\n",
       "      <td>North York</td>\n",
       "      <td>Parkwoods</td>\n",
       "      <td></td>\n",
       "    </tr>\n",
       "    <tr>\n",
       "      <th>4</th>\n",
       "      <td></td>\n",
       "      <td>M4A</td>\n",
       "      <td>North York</td>\n",
       "      <td>Victoria Village</td>\n",
       "      <td></td>\n",
       "    </tr>\n",
       "    <tr>\n",
       "      <th>5</th>\n",
       "      <td></td>\n",
       "      <td>M5A</td>\n",
       "      <td>Downtown Toronto</td>\n",
       "      <td>Harbourfront</td>\n",
       "      <td></td>\n",
       "    </tr>\n",
       "  </tbody>\n",
       "</table>\n",
       "</div>"
      ],
      "text/plain": [
       "    Postcode           Borough     Neighbourhood  \n",
       "1        M1A      Not assigned      Not assigned  \n",
       "2        M2A      Not assigned      Not assigned  \n",
       "3        M3A        North York         Parkwoods  \n",
       "4        M4A        North York  Victoria Village  \n",
       "5        M5A  Downtown Toronto      Harbourfront  "
      ]
     },
     "execution_count": 5,
     "metadata": {},
     "output_type": "execute_result"
    }
   ],
   "source": [
    "df = pd.DataFrame(row)\n",
    "df1 = df[0].str.split('\\n', expand=True)\n",
    "df2 = df1.rename(columns=df1.iloc[0])\n",
    "df3 = df2.drop(df2.index[0])\n",
    "df3.head()"
   ]
  },
  {
   "cell_type": "markdown",
   "metadata": {},
   "source": [
    "## Ignore cells with a borough that is Not assigned"
   ]
  },
  {
   "cell_type": "code",
   "execution_count": 6,
   "metadata": {},
   "outputs": [
    {
     "data": {
      "text/html": [
       "<div>\n",
       "<style scoped>\n",
       "    .dataframe tbody tr th:only-of-type {\n",
       "        vertical-align: middle;\n",
       "    }\n",
       "\n",
       "    .dataframe tbody tr th {\n",
       "        vertical-align: top;\n",
       "    }\n",
       "\n",
       "    .dataframe thead th {\n",
       "        text-align: right;\n",
       "    }\n",
       "</style>\n",
       "<table border=\"1\" class=\"dataframe\">\n",
       "  <thead>\n",
       "    <tr style=\"text-align: right;\">\n",
       "      <th></th>\n",
       "      <th></th>\n",
       "      <th>Postcode</th>\n",
       "      <th>Borough</th>\n",
       "      <th>Neighbourhood</th>\n",
       "      <th></th>\n",
       "    </tr>\n",
       "  </thead>\n",
       "  <tbody>\n",
       "    <tr>\n",
       "      <th>3</th>\n",
       "      <td></td>\n",
       "      <td>M3A</td>\n",
       "      <td>North York</td>\n",
       "      <td>Parkwoods</td>\n",
       "      <td></td>\n",
       "    </tr>\n",
       "    <tr>\n",
       "      <th>4</th>\n",
       "      <td></td>\n",
       "      <td>M4A</td>\n",
       "      <td>North York</td>\n",
       "      <td>Victoria Village</td>\n",
       "      <td></td>\n",
       "    </tr>\n",
       "    <tr>\n",
       "      <th>5</th>\n",
       "      <td></td>\n",
       "      <td>M5A</td>\n",
       "      <td>Downtown Toronto</td>\n",
       "      <td>Harbourfront</td>\n",
       "      <td></td>\n",
       "    </tr>\n",
       "    <tr>\n",
       "      <th>6</th>\n",
       "      <td></td>\n",
       "      <td>M5A</td>\n",
       "      <td>Downtown Toronto</td>\n",
       "      <td>Regent Park</td>\n",
       "      <td></td>\n",
       "    </tr>\n",
       "    <tr>\n",
       "      <th>7</th>\n",
       "      <td></td>\n",
       "      <td>M6A</td>\n",
       "      <td>North York</td>\n",
       "      <td>Lawrence Heights</td>\n",
       "      <td></td>\n",
       "    </tr>\n",
       "  </tbody>\n",
       "</table>\n",
       "</div>"
      ],
      "text/plain": [
       "    Postcode           Borough     Neighbourhood  \n",
       "3        M3A        North York         Parkwoods  \n",
       "4        M4A        North York  Victoria Village  \n",
       "5        M5A  Downtown Toronto      Harbourfront  \n",
       "6        M5A  Downtown Toronto       Regent Park  \n",
       "7        M6A        North York  Lawrence Heights  "
      ]
     },
     "execution_count": 6,
     "metadata": {},
     "output_type": "execute_result"
    }
   ],
   "source": [
    "\n",
    "df4 = df3[df3.Borough != 'Not assigned']\n",
    "df4.head()"
   ]
  },
  {
   "cell_type": "markdown",
   "metadata": {},
   "source": [
    "## Combine neighborhoods which have the same postcode"
   ]
  },
  {
   "cell_type": "code",
   "execution_count": 8,
   "metadata": {},
   "outputs": [
    {
     "data": {
      "text/html": [
       "<div>\n",
       "<style scoped>\n",
       "    .dataframe tbody tr th:only-of-type {\n",
       "        vertical-align: middle;\n",
       "    }\n",
       "\n",
       "    .dataframe tbody tr th {\n",
       "        vertical-align: top;\n",
       "    }\n",
       "\n",
       "    .dataframe thead th {\n",
       "        text-align: right;\n",
       "    }\n",
       "</style>\n",
       "<table border=\"1\" class=\"dataframe\">\n",
       "  <thead>\n",
       "    <tr style=\"text-align: right;\">\n",
       "      <th></th>\n",
       "      <th>Postcode</th>\n",
       "      <th>Borough</th>\n",
       "      <th>Neighbourhood</th>\n",
       "    </tr>\n",
       "  </thead>\n",
       "  <tbody>\n",
       "    <tr>\n",
       "      <th>0</th>\n",
       "      <td>M3A</td>\n",
       "      <td>North York</td>\n",
       "      <td>Parkwoods</td>\n",
       "    </tr>\n",
       "    <tr>\n",
       "      <th>1</th>\n",
       "      <td>M4A</td>\n",
       "      <td>North York</td>\n",
       "      <td>Victoria Village</td>\n",
       "    </tr>\n",
       "    <tr>\n",
       "      <th>2</th>\n",
       "      <td>M5A</td>\n",
       "      <td>Downtown Toronto</td>\n",
       "      <td>Harbourfront,Regent Park</td>\n",
       "    </tr>\n",
       "    <tr>\n",
       "      <th>3</th>\n",
       "      <td>M6A</td>\n",
       "      <td>North York</td>\n",
       "      <td>Lawrence Heights,Lawrence Manor</td>\n",
       "    </tr>\n",
       "    <tr>\n",
       "      <th>4</th>\n",
       "      <td>M7A</td>\n",
       "      <td>Queen's Park</td>\n",
       "      <td>Not assigned</td>\n",
       "    </tr>\n",
       "  </tbody>\n",
       "</table>\n",
       "</div>"
      ],
      "text/plain": [
       "  Postcode           Borough                    Neighbourhood\n",
       "0      M3A        North York                        Parkwoods\n",
       "1      M4A        North York                 Victoria Village\n",
       "2      M5A  Downtown Toronto         Harbourfront,Regent Park\n",
       "3      M6A        North York  Lawrence Heights,Lawrence Manor\n",
       "4      M7A      Queen's Park                     Not assigned"
      ]
     },
     "execution_count": 8,
     "metadata": {},
     "output_type": "execute_result"
    }
   ],
   "source": [
    "df5 = df4.groupby(['Postcode', 'Borough'], sort = False).agg(','.join)\n",
    "df5.reset_index(inplace = True)\n",
    "df5.head()\n",
    "\n",
    "# df5 = df4.groupby(['Postcode', 'Borough'], as_index=False).agg(lambda neighborhoods: ', '.join(neighborhoods))"
   ]
  },
  {
   "cell_type": "markdown",
   "metadata": {},
   "source": [
    "## Change the value of the Neighborhood to be like the Borough (Queen's Park)"
   ]
  },
  {
   "cell_type": "code",
   "execution_count": 9,
   "metadata": {},
   "outputs": [
    {
     "data": {
      "text/html": [
       "<div>\n",
       "<style scoped>\n",
       "    .dataframe tbody tr th:only-of-type {\n",
       "        vertical-align: middle;\n",
       "    }\n",
       "\n",
       "    .dataframe tbody tr th {\n",
       "        vertical-align: top;\n",
       "    }\n",
       "\n",
       "    .dataframe thead th {\n",
       "        text-align: right;\n",
       "    }\n",
       "</style>\n",
       "<table border=\"1\" class=\"dataframe\">\n",
       "  <thead>\n",
       "    <tr style=\"text-align: right;\">\n",
       "      <th></th>\n",
       "      <th>Postcode</th>\n",
       "      <th>Borough</th>\n",
       "      <th>Neighbourhood</th>\n",
       "    </tr>\n",
       "  </thead>\n",
       "  <tbody>\n",
       "    <tr>\n",
       "      <th>0</th>\n",
       "      <td>M3A</td>\n",
       "      <td>North York</td>\n",
       "      <td>Parkwoods</td>\n",
       "    </tr>\n",
       "    <tr>\n",
       "      <th>1</th>\n",
       "      <td>M4A</td>\n",
       "      <td>North York</td>\n",
       "      <td>Victoria Village</td>\n",
       "    </tr>\n",
       "    <tr>\n",
       "      <th>2</th>\n",
       "      <td>M5A</td>\n",
       "      <td>Downtown Toronto</td>\n",
       "      <td>Harbourfront,Regent Park</td>\n",
       "    </tr>\n",
       "    <tr>\n",
       "      <th>3</th>\n",
       "      <td>M6A</td>\n",
       "      <td>North York</td>\n",
       "      <td>Lawrence Heights,Lawrence Manor</td>\n",
       "    </tr>\n",
       "    <tr>\n",
       "      <th>4</th>\n",
       "      <td>M7A</td>\n",
       "      <td>Queen's Park</td>\n",
       "      <td>Queen's Park</td>\n",
       "    </tr>\n",
       "  </tbody>\n",
       "</table>\n",
       "</div>"
      ],
      "text/plain": [
       "  Postcode           Borough                    Neighbourhood\n",
       "0      M3A        North York                        Parkwoods\n",
       "1      M4A        North York                 Victoria Village\n",
       "2      M5A  Downtown Toronto         Harbourfront,Regent Park\n",
       "3      M6A        North York  Lawrence Heights,Lawrence Manor\n",
       "4      M7A      Queen's Park                     Queen's Park"
      ]
     },
     "execution_count": 9,
     "metadata": {},
     "output_type": "execute_result"
    }
   ],
   "source": [
    "df6 = df5.replace(\"Not assigned\", \"Queen's Park\")\n",
    "df6.head()"
   ]
  },
  {
   "cell_type": "markdown",
   "metadata": {},
   "source": [
    "Number of Rows"
   ]
  },
  {
   "cell_type": "code",
   "execution_count": 14,
   "metadata": {},
   "outputs": [
    {
     "data": {
      "text/plain": [
       "(289, 1)"
      ]
     },
     "execution_count": 14,
     "metadata": {},
     "output_type": "execute_result"
    }
   ],
   "source": [
    "df.shape"
   ]
  },
  {
   "cell_type": "code",
   "execution_count": null,
   "metadata": {},
   "outputs": [],
   "source": []
  }
 ],
 "metadata": {
  "kernelspec": {
   "display_name": "Python 3",
   "language": "python",
   "name": "python3"
  },
  "language_info": {
   "codemirror_mode": {
    "name": "ipython",
    "version": 3
   },
   "file_extension": ".py",
   "mimetype": "text/x-python",
   "name": "python",
   "nbconvert_exporter": "python",
   "pygments_lexer": "ipython3",
   "version": "3.7.3"
  }
 },
 "nbformat": 4,
 "nbformat_minor": 4
}
